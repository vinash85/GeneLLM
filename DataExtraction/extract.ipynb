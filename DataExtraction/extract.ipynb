{
 "cells": [
  {
   "cell_type": "code",
   "execution_count": null,
   "metadata": {},
   "outputs": [],
   "source": [
    "! pip3 install selenium\n",
    "! pip3 install csv\n",
    "! pip3 install bs4\n",
    "! pip3 install clipboard\n",
    "! pip3 install pyautogui"
   ]
  },
  {
   "attachments": {},
   "cell_type": "markdown",
   "metadata": {},
   "source": [
    "**FOR MACBOOK USERS, RUN THE CODE BELOW**"
   ]
  },
  {
   "cell_type": "code",
   "execution_count": 25,
   "metadata": {},
   "outputs": [
    {
     "name": "stdout",
     "output_type": "stream",
     "text": [
      "done with RPL22L1, 1, index: 4004\n",
      "done with DNAJC14, 2, index: 4005\n",
      "done with RBM15B, 3, index: 4006\n",
      "done with all 3 protein coding genes\n"
     ]
    }
   ],
   "source": [
    "import csv\n",
    "import pyautogui\n",
    "import clipboard\n",
    "import time\n",
    "from bs4 import BeautifulSoup\n",
    "from selenium import webdriver\n",
    "from selenium.webdriver.common.keys import Keys\n",
    "\n",
    "\n",
    "with open('input.csv') as csv_file:\n",
    "    csv_reader = csv.reader(csv_file)\n",
    "    for j, line in enumerate(csv_reader):\n",
    "        browser = webdriver.Chrome()\n",
    "        url = f'https://www.genecards.org/cgi-bin/carddisp.pl?gene={line[1]}'\n",
    "        browser.get(url)\n",
    "        time.sleep(1)\n",
    "        pyautogui.write(f'{line[0]} {line[1]}')\n",
    "        pyautogui.press('tab')\n",
    "        pyautogui.hotkey('command', 'option', 'u')\n",
    "        time.sleep(1)\n",
    "        pyautogui.hotkey('command', 'a')\n",
    "        pyautogui.hotkey('command', 'c')\n",
    "        time.sleep(1)\n",
    "        clipboard_content = clipboard.paste()\n",
    "        soup = BeautifulSoup(clipboard_content, 'html.parser')\n",
    "        summary_section = soup.find('section', {'id': 'summaries'})\n",
    "        attribute_section = soup.find('div', {'id': 'proteins-attributes'})\n",
    "        try:\n",
    "            inner_attribute_section = attribute_section.find('li').text.strip()\n",
    "        except AttributeError:\n",
    "            inner_attribute_section = None\n",
    "        sum_div_list = []\n",
    "        for i in range(15):\n",
    "            try:\n",
    "                sum_div = summary_section.find_all('p')[i].text.strip()\n",
    "                sum_div = sum_div.replace('\\n', ' ')  \n",
    "                sum_div = sum_div.replace('\\r', ' ') \n",
    "                sum_div_list.append(sum_div)\n",
    "                \n",
    "            except IndexError:\n",
    "                sum_div = None\n",
    "\n",
    "        \n",
    "        with open('output.tsv', 'a') as f:\n",
    "            f.seek(0, 2)\n",
    "            if f.tell() != 0:\n",
    "                f.write('\\n')\n",
    "            f.write(f'{line[1]}\\t{sum_div_list}\\t{inner_attribute_section}')\n",
    "        print(f'done with {line[1]}, {j+1}, index: {line[0]}')\n",
    "        \n",
    "        \n",
    "        time.sleep(1)\n",
    "browser.quit()\n",
    "print(f'done with all {j+1} protein coding genes')        \n",
    "\n",
    "\n"
   ]
  },
  {
   "attachments": {},
   "cell_type": "markdown",
   "metadata": {},
   "source": [
    "**FOR WINDOWS AND LINUX USERS, RUN THE CODE BELOW**"
   ]
  },
  {
   "cell_type": "code",
   "execution_count": null,
   "metadata": {},
   "outputs": [],
   "source": [
    "import csv\n",
    "import pyautogui\n",
    "import clipboard\n",
    "import time\n",
    "from bs4 import BeautifulSoup\n",
    "from selenium import webdriver\n",
    "from selenium.webdriver.common.keys import Keys\n",
    "\n",
    "\n",
    "with open('input.csv') as csv_file:\n",
    "    csv_reader = csv.reader(csv_file)\n",
    "    for j, line in enumerate(csv_reader):\n",
    "        browser = webdriver.Chrome()\n",
    "        url = f'https://www.genecards.org/cgi-bin/carddisp.pl?gene={line[1]}'\n",
    "        browser.get(url)\n",
    "        time.sleep(2)\n",
    "        pyautogui.write(f'{line[0]} {line[1]}')\n",
    "        pyautogui.press('tab')\n",
    "        pyautogui.hotkey('ctrl', 'u')\n",
    "        time.sleep(3)\n",
    "        pyautogui.hotkey('ctrl', 'a')\n",
    "        pyautogui.hotkey('ctrl', 'c')\n",
    "        time.sleep(2)\n",
    "        clipboard_content = clipboard.paste()\n",
    "        soup = BeautifulSoup(clipboard_content, 'html.parser')\n",
    "        summary_section = soup.find('section', {'id': 'summaries'})\n",
    "        attribute_section = soup.find('div', {'id': 'proteins-attributes'})\n",
    "        try:\n",
    "            inner_attribute_section = attribute_section.find('li').text.strip()\n",
    "        except AttributeError:\n",
    "            inner_attribute_section = None\n",
    "        sum_div_list = []\n",
    "        for i in range(15):\n",
    "            try:\n",
    "                sum_div = summary_section.find_all('p')[i].text.strip()\n",
    "                sum_div = sum_div.replace('\\n', ' ')  \n",
    "                sum_div = sum_div.replace('\\r', ' ') \n",
    "                sum_div_list.append(sum_div)\n",
    "                \n",
    "            except IndexError:\n",
    "                sum_div = None\n",
    "\n",
    "        \n",
    "        with open('output.tsv', 'a') as f:\n",
    "            f.seek(0, 2)\n",
    "            if f.tell() != 0:\n",
    "                f.write('\\n')\n",
    "            f.write(f'{line[1]}\\t{sum_div_list}\\t{inner_attribute_section}')\n",
    "        print(f'done with {line[1]}, {j+1}, index: {line[0]}')\n",
    "        \n",
    "        \n",
    "        time.sleep(2)\n",
    "browser.quit()\n",
    "print(f'done with all {j+1} protein coding genes')        \n",
    "\n",
    "\n"
   ]
  }
 ],
 "metadata": {
  "kernelspec": {
   "display_name": "Python 3",
   "language": "python",
   "name": "python3"
  },
  "language_info": {
   "codemirror_mode": {
    "name": "ipython",
    "version": 3
   },
   "file_extension": ".py",
   "mimetype": "text/x-python",
   "name": "python",
   "nbconvert_exporter": "python",
   "pygments_lexer": "ipython3",
   "version": "3.11.4"
  },
  "orig_nbformat": 4
 },
 "nbformat": 4,
 "nbformat_minor": 2
}
